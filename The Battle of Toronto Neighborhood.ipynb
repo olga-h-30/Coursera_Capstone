{
    "cells": [
        {
            "cell_type": "markdown",
            "metadata": {
                "collapsed": true
            },
            "source": "# Capstone Project - The Battle of Neighborhoods\n# Where Should I Live?"
        },
        {
            "cell_type": "markdown",
            "metadata": {},
            "source": "As a part of the final course of IBM Data Science Professional Certificate - we have worked on a final Capstone Project. Main objectives of the project were as follows:\n- Define a problem for your capstone project\n- Discuss the data that you will use to solve the problem\n- Carry out the work to complete the capstone project using available means such as Python libraries and Foursquare location data \n\n<br> In this project, we will go through all the steps from problem identification, data gathering to final analysis and finish up with a conclusion. "
        },
        {
            "cell_type": "markdown",
            "metadata": {},
            "source": "## 1. Introduction"
        },
        {
            "cell_type": "markdown",
            "metadata": {},
            "source": "For this project I have decided to select not necessarily a true business problem, but, more of a life one. \n\nImagine the most simple task each of us have to face when you are looking to move to another city - where should I live? Which area should i pick? What neighbourhood? \nI was faced with this task about 3 years ago when I was moving to Toronto for work. Unfortunately, at that point of time I didn't have enough of data science knowledge to automate the search process, thus, decision was made based on lots and lots of manual research. However, having all this valuable Python knowledge, let's try to see how I could have tackled this problem. "
        },
        {
            "cell_type": "markdown",
            "metadata": {},
            "source": "### Problem Statement"
        },
        {
            "cell_type": "markdown",
            "metadata": {},
            "source": "To reiterate - the goal is to __analyze and compare Toronto neighborhoods, and indentify the most suitable neighbourhood in Toronto to move into__ based on the following criteria: \n\n- availability of various venues around. Venue list should include: \n    - Movie Theater\n    - Dance Studio\n    - Food\n        - Gluten-free Restaurant\n        - Vegetarian / Vegan Restaurant\n        - Coffee Shop\n    - Grocery Store\n    - Pharmacy\n    - Shopping Mall\n    - Nightlife Spot\n    - Gym / Fitness Center\n    - Park"
        },
        {
            "cell_type": "markdown",
            "metadata": {},
            "source": "### Target Audience"
        },
        {
            "cell_type": "markdown",
            "metadata": {},
            "source": "Who may be interested in this project? \n1. Most certainly, people who are looking to relocate into a new city due to any reason.\n2. Most likely, people who are looking to settle down and purchase a property, however, they are confused which area is the best. With some little tweaks to the process - this can become quite valuable and, most importantly, time saving way to arrive to final decision. \n3. And, of course, my fellow Data Analysts and Data Scientists, who are looking to analyze the neighborhoods of any city, in my case - Toronto, using a variety of techniques to reach desired results and draw subsequent conclusions. "
        },
        {
            "cell_type": "markdown",
            "metadata": {},
            "source": "## 2. Data"
        },
        {
            "cell_type": "markdown",
            "metadata": {},
            "source": "The data used for this project is as follows:\n1. Wikipedia page https://en.wikipedia.org/wiki/List_of_postal_codes_of_Canada:_M, containing the list of Toronto postal codes, Boroughs and Neighbourhoods. We will scrape this page, get the data we need and create a pandas dataframe. A bit of assumptions:\n<br> 1.1. The dataframe will consist of three columns: PostalCode, Borough, and Neighborhood.\n<br> 1.2. We will only process the cells that have an assigned borough. We shall ignore cells with a borough that is Not assigned. \n2. A CSV file that has the geographical coordinates of each of Toronto's postal codes: http://cocl.us/Geospatial_data. We will use this link to obtain needed data and create new dataframe containing following columns:\n    - Postal Code\n    - Borough\n    - Neighbourhood\n    - Lattitude\n    - Longitude  \n3. We also will be using Foursquare API to obtain needed information on the venues in the neighborhoods of Toronto. The API returns a JSON file and we will be transforming it into a dataframe for our analysis."
        },
        {
            "cell_type": "code",
            "execution_count": null,
            "metadata": {},
            "outputs": [],
            "source": ""
        }
    ],
    "metadata": {
        "kernelspec": {
            "display_name": "Python 3.6",
            "language": "python",
            "name": "python3"
        },
        "language_info": {
            "codemirror_mode": {
                "name": "ipython",
                "version": 3
            },
            "file_extension": ".py",
            "mimetype": "text/x-python",
            "name": "python",
            "nbconvert_exporter": "python",
            "pygments_lexer": "ipython3",
            "version": "3.6.9"
        }
    },
    "nbformat": 4,
    "nbformat_minor": 1
}